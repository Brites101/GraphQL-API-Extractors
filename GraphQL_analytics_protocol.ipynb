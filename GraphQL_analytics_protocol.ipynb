{
  "nbformat": 4,
  "nbformat_minor": 0,
  "metadata": {
    "colab": {
      "name": "GraphQL_analytics_protocol.ipynb",
      "version": "0.3.2",
      "provenance": [],
      "collapsed_sections": [
        "iBGuJr4wpTx7"
      ],
      "toc_visible": true,
      "include_colab_link": true
    },
    "kernelspec": {
      "name": "python3",
      "display_name": "Python 3"
    }
  },
  "cells": [
    {
      "cell_type": "markdown",
      "metadata": {
        "id": "view-in-github",
        "colab_type": "text"
      },
      "source": [
        "<a href=\"https://colab.research.google.com/github/Brites101/bazicodes/blob/master/GraphQL_analytics_protocol.ipynb\" target=\"_parent\"><img src=\"https://colab.research.google.com/assets/colab-badge.svg\" alt=\"Open In Colab\"/></a>"
      ]
    },
    {
      "cell_type": "markdown",
      "metadata": {
        "id": "iBGuJr4wpTx7",
        "colab_type": "text"
      },
      "source": [
        "# Setup\n",
        "\n",
        "Import all relevant packages and access [token generator](http://token.aiesec.org.br/get_token.php?token=) to generate a token as ***access_token*** (The token is confidential, therefore omitted from this document)"
      ]
    },
    {
      "cell_type": "code",
      "metadata": {
        "id": "O3jigWCflYis",
        "colab_type": "code",
        "colab": {}
      },
      "source": [
        "import json\n",
        "import requests\n",
        "import pandas as pd\n",
        "from pandas.io.json import json_normalize\n",
        "import pandas.io.json as pd_json\n",
        "import matplotlib.pyplot as plt\n",
        "%matplotlib inline\n",
        "import seaborn as sns\n",
        "import matplotlib.style as style\n",
        "\n",
        "\n",
        "!pip install gql -q\n",
        "\n",
        "from gql import gql, Client\n",
        "from gql.transport.requests import RequestsHTTPTransport"
      ],
      "execution_count": 0,
      "outputs": []
    },
    {
      "cell_type": "code",
      "metadata": {
        "id": "scsMmawesosS",
        "colab_type": "code",
        "colab": {
          "base_uri": "https://localhost:8080/",
          "height": 51
        },
        "outputId": "293756e8-85d8-4c59-9faf-5f840b48a6a7"
      },
      "source": [
        "  token_get_url = \"http://token.aiesec.org.br/get_token.php?token=\"\n",
        "  access_token_raw = requests.get(token_get_url)\n",
        "  access_token = access_token_raw.text.strip()\n",
        "  print('Setup complete! \\nYour access token is ' + '\"'+ access_token +'\"')"
      ],
      "execution_count": 26,
      "outputs": [
        {
          "output_type": "stream",
          "text": [
            "Setup complete! \n",
            "Your access token is \"b2973e43a737d4476051fcc094eadf3a0c33891fdf61653989caa378631f7a5e\"\n"
          ],
          "name": "stdout"
        }
      ]
    },
    {
      "cell_type": "markdown",
      "metadata": {
        "id": "1alJIFN5pYrH",
        "colab_type": "text"
      },
      "source": [
        "# GraphQL Query"
      ]
    },
    {
      "cell_type": "code",
      "metadata": {
        "id": "11o9ww7Kvv0F",
        "colab_type": "code",
        "colab": {}
      },
      "source": [
        "input_query = \"\"\"\n",
        "{\n",
        "  allOpportunityApplication(filters: {created_at: {from:\"2019-01-01T22:00:00Z\", to:\"2019-07-01T22:00:00Z\"}, programmes:2, person_home_mc: 1606},per_page:4000, page: 1) \n",
        "  {\n",
        "    data {\n",
        "      person {\n",
        "        id\n",
        "        status\n",
        "        opportunity_applications_count        \n",
        "              } \n",
        "         }\n",
        "  }\n",
        "}\n",
        "\"\"\""
      ],
      "execution_count": 0,
      "outputs": []
    },
    {
      "cell_type": "code",
      "metadata": {
        "id": "PVJk7QlVtH_t",
        "colab_type": "code",
        "colab": {}
      },
      "source": [
        "#calls a query from the GraphQL API\n",
        "\n",
        "_transport = RequestsHTTPTransport(\n",
        "    url='https://gis-api.aiesec.org/graphql?access_token='+str(access_token),\n",
        "    use_json=True,\n",
        ")\n",
        "client = Client(\n",
        "    transport=_transport,\n",
        "    fetch_schema_from_transport=True,\n",
        ")\n",
        "#Here you insert the query\n",
        "query = gql(input_query)\n",
        "\n",
        "query_json=client.execute(query)"
      ],
      "execution_count": 0,
      "outputs": []
    },
    {
      "cell_type": "code",
      "metadata": {
        "id": "m7RhMaxZtbaf",
        "colab_type": "code",
        "colab": {}
      },
      "source": [
        "print(query_json)"
      ],
      "execution_count": 0,
      "outputs": []
    },
    {
      "cell_type": "markdown",
      "metadata": {
        "id": "ndhahp2fw4pY",
        "colab_type": "text"
      },
      "source": [
        "You got list all of the parent nods below to properly flatten the json. If you are querying multiple depths, then you need multiple normalizations"
      ]
    },
    {
      "cell_type": "code",
      "metadata": {
        "id": "ec-eZx4RYH2K",
        "colab_type": "code",
        "colab": {}
      },
      "source": [
        "#Flatten JSON into a dataframe\n",
        "query_df = json_normalize(query_json['allOpportunityApplication']['data'])"
      ],
      "execution_count": 0,
      "outputs": []
    },
    {
      "cell_type": "code",
      "metadata": {
        "id": "vsSJb-8StjHn",
        "colab_type": "code",
        "colab": {}
      },
      "source": [
        "print(query_df)"
      ],
      "execution_count": 0,
      "outputs": []
    },
    {
      "cell_type": "markdown",
      "metadata": {
        "id": "TWxt8vL1xPX5",
        "colab_type": "text"
      },
      "source": [
        "Now you have a dataframe! Enjoy yours analytics"
      ]
    },
    {
      "cell_type": "code",
      "metadata": {
        "id": "-UBWp9i9HJS4",
        "colab_type": "code",
        "colab": {}
      },
      "source": [
        "style.use('seaborn-poster') #sets the size of the charts\n",
        "style.use('ggplot')"
      ],
      "execution_count": 0,
      "outputs": []
    }
  ]
}
